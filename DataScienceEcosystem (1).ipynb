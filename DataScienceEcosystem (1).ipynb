{
 "cells": [
  {
   "cell_type": "markdown",
   "id": "e91dafed",
   "metadata": {},
   "source": [
    "# Data Science Tools and Ecosystem"
   ]
  },
  {
   "cell_type": "markdown",
   "id": "58314ed8",
   "metadata": {},
   "source": [
    "In this notebook, Data Science Tools and\n",
    "Ecosystem are summarized."
   ]
  },
  {
   "cell_type": "markdown",
   "id": "4d4e9e49",
   "metadata": {},
   "source": [
    "**Objectives**"
   ]
  },
  {
   "cell_type": "markdown",
   "id": "2325f042",
   "metadata": {},
   "source": [
    "* languages for Data Science\n",
    "* Data Science Tools\n",
    "* Data Science Libraries\n",
    "* Machine Learning"
   ]
  },
  {
   "cell_type": "markdown",
   "id": "6baada34",
   "metadata": {},
   "source": [
    "Some of the popular languages that Data Scientists use are:\n",
    "\n",
    "1. Python\n",
    "2. R\n",
    "3. SQL"
   ]
  },
  {
   "cell_type": "markdown",
   "id": "8a61516a",
   "metadata": {},
   "source": [
    "Some of the commonly used libraries used by Data Scientists include:\n",
    "1. Pandas\n",
    "2. Numpy\n",
    "3. Scikit-learn\n",
    "4. Matplotlib"
   ]
  },
  {
   "cell_type": "markdown",
   "id": "069054ad",
   "metadata": {},
   "source": [
    "|Data Science Tools|\n",
    "|---|\n",
    "|Anaconda|\n",
    "|Spark|\n",
    "|Keras|"
   ]
  },
  {
   "cell_type": "markdown",
   "id": "e985b42f",
   "metadata": {},
   "source": [
    "### Below are a few examples of evaluating arithmetic expressions in Python"
   ]
  },
  {
   "cell_type": "code",
   "execution_count": 1,
   "id": "8997d4ea",
   "metadata": {},
   "outputs": [
    {
     "data": {
      "text/plain": [
       "7"
      ]
     },
     "execution_count": 1,
     "metadata": {},
     "output_type": "execute_result"
    }
   ],
   "source": [
    "3+4"
   ]
  },
  {
   "cell_type": "markdown",
   "id": "90e37b37",
   "metadata": {},
   "source": [
    " This is a simple arithmetic expression to then add integers"
   ]
  },
  {
   "cell_type": "code",
   "execution_count": 3,
   "id": "8635cdbd",
   "metadata": {},
   "outputs": [
    {
     "data": {
      "text/plain": [
       "17"
      ]
     },
     "execution_count": 3,
     "metadata": {},
     "output_type": "execute_result"
    }
   ],
   "source": [
    "(3*4)+5"
   ]
  },
  {
   "cell_type": "markdown",
   "id": "6267eeea",
   "metadata": {},
   "source": [
    "This will turn 200 minutes into hours"
   ]
  },
  {
   "cell_type": "code",
   "execution_count": 19,
   "id": "bef880dd",
   "metadata": {},
   "outputs": [],
   "source": [
    "def Minutos_a_horas_datetime(minutos):\n",
    "  \"\"\"\n",
    "  Convierte minutos a Horas\n",
    "  Args:\n",
    "    minutos: El número de minutos a convertir.\n",
    "\n",
    "  Returns:\n",
    "    El número de horas correspondiente.\n",
    "  \"\"\"\n",
    "\n",
    "  return minutos/60"
   ]
  },
  {
   "cell_type": "code",
   "execution_count": 20,
   "id": "638cffae",
   "metadata": {},
   "outputs": [
    {
     "name": "stdout",
     "output_type": "stream",
     "text": [
      "3.3333333333333335\n"
     ]
    }
   ],
   "source": [
    "minutos = 200\n",
    "horas = Minutos_a_horas_datetime(minutos)\n",
    "print(horas)"
   ]
  },
  {
   "cell_type": "markdown",
   "id": "d9f1370f",
   "metadata": {},
   "source": [
    "## Author: Kevin Daniel Varela Vasquez"
   ]
  }
 ],
 "metadata": {
  "kernelspec": {
   "display_name": "Python 3 (ipykernel)",
   "language": "python",
   "name": "python3"
  },
  "language_info": {
   "codemirror_mode": {
    "name": "ipython",
    "version": 3
   },
   "file_extension": ".py",
   "mimetype": "text/x-python",
   "name": "python",
   "nbconvert_exporter": "python",
   "pygments_lexer": "ipython3",
   "version": "3.11.4"
  }
 },
 "nbformat": 4,
 "nbformat_minor": 5
}
